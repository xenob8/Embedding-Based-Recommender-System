{
 "cells": [
  {
   "cell_type": "markdown",
   "source": [
    "# Загрузка данных\n",
    "будет достаточно лишь одной таблицы с рейтингами, поэтому загрузим скачанный датасет из csv"
   ],
   "metadata": {
    "collapsed": false
   }
  },
  {
   "cell_type": "code",
   "execution_count": 177,
   "outputs": [],
   "source": [
    "import pandas as pd\n",
    "df = pd.read_csv(\"C:\\datasets\\ml-latest\\\\ratings.csv\")"
   ],
   "metadata": {
    "collapsed": false,
    "ExecuteTime": {
     "end_time": "2023-05-10T01:34:17.529063700Z",
     "start_time": "2023-05-10T01:34:07.320268200Z"
    }
   }
  },
  {
   "cell_type": "markdown",
   "source": [
    "# Разбиение данных\n",
    "Возьмем стандартные 10% данных на валидацию и 10% на тест, но разделение будем производить по времени(timestamp), чтобы понимать как модель будет себя вести на данных \"из будущего\"\n",
    "При этом валидационные данные будут использоваться в процессе обучения для оценки функции потерь после каждой эпохи\n"
   ],
   "metadata": {
    "collapsed": false
   }
  },
  {
   "cell_type": "code",
   "execution_count": 178,
   "metadata": {
    "ExecuteTime": {
     "end_time": "2023-05-10T01:34:24.003961500Z",
     "start_time": "2023-05-10T01:34:17.535072300Z"
    }
   },
   "outputs": [],
   "source": [
    "filtered_data = (\n",
    "    df.filter([\"timestamp\", \"userId\", \"movieId\", \"rating\"])\n",
    "    .sort_values(\"timestamp\")\n",
    "    .astype({\"userId\": int, \"movieId\": int, \"rating\": float})\n",
    "    .drop(columns=[\"timestamp\"])\n",
    ")\n"
   ]
  },
  {
   "cell_type": "code",
   "execution_count": 179,
   "outputs": [],
   "source": [
    "test_range = int(len(filtered_data)*0.9)\n",
    "train = filtered_data.iloc[:test_range]\n",
    "test = filtered_data.iloc[test_range:]"
   ],
   "metadata": {
    "collapsed": false,
    "ExecuteTime": {
     "end_time": "2023-05-10T01:34:24.045195400Z",
     "start_time": "2023-05-10T01:34:24.006958300Z"
    }
   }
  },
  {
   "cell_type": "code",
   "execution_count": 180,
   "metadata": {
    "ExecuteTime": {
     "end_time": "2023-05-10T01:34:24.216335700Z",
     "start_time": "2023-05-10T01:34:24.046193900Z"
    }
   },
   "outputs": [],
   "source": [
    "X_train = train.drop(columns=[\"rating\"])\n",
    "y_train = train[\"rating\"]\n",
    "X_test = test.drop(columns=[\"rating\"])\n",
    "y_test = test[\"rating\"]"
   ]
  },
  {
   "cell_type": "code",
   "execution_count": 181,
   "metadata": {
    "ExecuteTime": {
     "end_time": "2023-05-10T01:34:24.550139300Z",
     "start_time": "2023-05-10T01:34:24.218340800Z"
    }
   },
   "outputs": [
    {
     "name": "stdout",
     "output_type": "stream",
     "text": [
      "train users vocab len 263764\n",
      "train movies vocab len 41330\n"
     ]
    }
   ],
   "source": [
    "import numpy\n",
    "all_users = train[\"userId\"].unique()\n",
    "all_movies = train[\"movieId\"].unique()\n",
    "\n",
    "print(\"train users vocab len\", len(all_users))\n",
    "print(\"train movies vocab len\", len(all_movies))\n"
   ]
  },
  {
   "cell_type": "markdown",
   "metadata": {},
   "source": [
    "# Архитектура\n",
    "Для составления модели на основе эмбеддингов нам будет достаточно трех признаков userId, movieId, rating\n",
    "на входе два катериальных признака (user_id, movie_id), затем мы проводим эмбеддинг каждого из них в размерность равную корень 4 степени из длины словаря (что является одной из возможных эмпирик), затем с помощью matrix factorization вычисляем user_rating\n",
    "\n",
    "После обучения данного рекомендателя мы получаем обученные эмбеддинги для юзеров и фильмов, при этом эмбеддинги юзера и эмбеддинги подходящих ему фильмов будут близки. На их основе можно построить K-Nearest классификатор, который по эмбеддингу юзера определит n подходящих ему фильмов\n",
    "## Детали реализации\n",
    "Нормируем вывод модели в диапазоне от 1 до 5, также добавим bias для каждого юзера (для регулировки склонности ставить только низкие/высокие/одинаковые оценки) и bias для каждого фильма (склонность получать только плохие/хорошие оценки)"
   ]
  },
  {
   "cell_type": "code",
   "execution_count": 196,
   "metadata": {
    "ExecuteTime": {
     "end_time": "2023-05-10T02:08:28.867598300Z",
     "start_time": "2023-05-10T02:08:28.696955600Z"
    }
   },
   "outputs": [],
   "source": [
    "import tensorflow as tf\n",
    "emb_dim = int(len(all_users) ** (1/4))\n",
    "user_input = tf.keras.layers.Input(shape=(1,), name=\"user\")\n",
    "user_as_integer = tf.keras.layers.IntegerLookup(vocabulary=all_users)(user_input)\n",
    "user_embedding = tf.keras.layers.Embedding(input_dim=len(all_users) + 1, output_dim=emb_dim)(user_as_integer)\n",
    "user_vec = tf.keras.layers.Flatten(name='FlattenUser')(user_embedding)\n",
    "user_model = tf.keras.Model(inputs=user_input, outputs=user_vec)\n",
    "user_bias = tf.keras.layers.Embedding(input_dim=len(all_users) + 1, output_dim=1, name=\"user_bias\")(user_as_integer)\n",
    "\n",
    "movie_input = tf.keras.layers.Input(shape=(1,), name=\"movie\")\n",
    "movie_as_integer = tf.keras.layers.IntegerLookup(vocabulary=all_movies)(movie_input)\n",
    "movie_embedding = tf.keras.layers.Embedding(input_dim=len(all_movies) + 1, output_dim=emb_dim)(movie_as_integer)\n",
    "movie_vec = tf.keras.layers.Flatten(name='FlattenMovie')(movie_embedding)\n",
    "movie_model = tf.keras.Model(inputs=movie_input, outputs=movie_vec)\n",
    "movie_bias = tf.keras.layers.Embedding(input_dim=len(all_movies) + 1, output_dim=1, name=\"movie_bias\")(movie_as_integer)\n",
    "\n",
    "dot = tf.keras.layers.Dot(axes=2)([user_embedding, movie_embedding])\n",
    "add = tf.keras.layers.Add(name=\"sum\")([dot, user_bias, movie_bias])\n",
    "flatten = tf.keras.layers.Flatten(name=\"flatten\")(add)\n",
    "squash = tf.keras.layers.Lambda(lambda x: 4 * tf.nn.sigmoid(x) + 1, name=\"squash\")(flatten)\n",
    "\n",
    "model = tf.keras.Model(inputs=[user_input, movie_input], outputs=squash)\n",
    "\n",
    "model.compile(loss=\"mse\", metrics=[tf.keras.metrics.MeanAbsoluteError()])"
   ]
  },
  {
   "cell_type": "code",
   "execution_count": 183,
   "metadata": {
    "scrolled": true,
    "ExecuteTime": {
     "end_time": "2023-05-10T01:39:29.894394300Z",
     "start_time": "2023-05-10T01:34:41.385172900Z"
    }
   },
   "outputs": [
    {
     "name": "stdout",
     "output_type": "stream",
     "text": [
      "Epoch 1/20\n",
      "1406/1406 [==============================] - 57s 39ms/step - loss: 1.0602 - mean_absolute_error: 0.8289 - val_loss: 1.1066 - val_mean_absolute_error: 0.8225\n",
      "Epoch 2/20\n",
      "1406/1406 [==============================] - 55s 39ms/step - loss: 0.8947 - mean_absolute_error: 0.7408 - val_loss: 1.0827 - val_mean_absolute_error: 0.8041\n",
      "Epoch 3/20\n",
      "1406/1406 [==============================] - 59s 42ms/step - loss: 0.8650 - mean_absolute_error: 0.7245 - val_loss: 1.0730 - val_mean_absolute_error: 0.7973\n",
      "Epoch 4/20\n",
      "1406/1406 [==============================] - 59s 42ms/step - loss: 0.8473 - mean_absolute_error: 0.7153 - val_loss: 1.0673 - val_mean_absolute_error: 0.7934\n",
      "Epoch 5/20\n",
      "1406/1406 [==============================] - 59s 42ms/step - loss: 0.8348 - mean_absolute_error: 0.7089 - val_loss: 1.0634 - val_mean_absolute_error: 0.7907\n"
     ]
    },
    {
     "data": {
      "text/plain": "<keras.callbacks.History at 0x1e137fbdf10>"
     },
     "execution_count": 183,
     "metadata": {},
     "output_type": "execute_result"
    }
   ],
   "source": [
    "model.fit(\n",
    "    x={\"user\": X_train[\"userId\"], \"movie\": X_train[\"movieId\"]},\n",
    "    y=y_train.values,\n",
    "    batch_size=16000,\n",
    "    epochs=20,\n",
    "    validation_split=0.1,\n",
    "    callbacks=[tf.keras.callbacks.EarlyStopping(min_delta=0.005,patience=1, restore_best_weights=True)],\n",
    ")"
   ]
  },
  {
   "cell_type": "markdown",
   "metadata": {
    "collapsed": false
   },
   "source": [
    "# Метрики\n",
    "Для нас первостепенное значение имеет метрика r², которая показывает зависимость предсказзной оценки от входных данных пользоватея и фильма.\n",
    "Также можно обратить внимание на среднюю абсолютную ошибку, которая означает, что мы отклоняемся от истинного рейтинга в среднем примерно на n звезды."
   ]
  },
  {
   "cell_type": "code",
   "execution_count": 186,
   "metadata": {
    "ExecuteTime": {
     "end_time": "2023-05-10T01:54:37.729567300Z",
     "start_time": "2023-05-10T01:54:30.081936100Z"
    }
   },
   "outputs": [
    {
     "name": "stdout",
     "output_type": "stream",
     "text": [
      "174/174 [==============================] - 1s 3ms/step\n",
      "0.08042698004501514\n",
      "1562/1562 [==============================] - 5s 3ms/step\n",
      "0.23851592364181573\n",
      "174/174 [==============================] - 1s 3ms/step\n",
      "0.8069650510406239\n"
     ]
    }
   ],
   "source": [
    "from sklearn.metrics import r2_score\n",
    "from sklearn.metrics import mean_absolute_error, mean_squared_error\n",
    "\n",
    "r2 = r2_score(\n",
    "    y_test,\n",
    "    model.predict({\"user\": X_test[\"userId\"], \"movie\": X_test[\"movieId\"]}, batch_size=16000).ravel(),\n",
    ")\n",
    "\n",
    "print(r2)\n",
    "\n",
    "mae = mean_absolute_error(\n",
    "    y_test,\n",
    "    model.predict({\"user\": X_test[\"userId\"], \"movie\": X_test[\"movieId\"]}, batch_size=16000).ravel(),\n",
    ")\n",
    "print(mae)\n"
   ]
  },
  {
   "cell_type": "markdown",
   "source": [
    "# Результаты\n",
    "r² равен 8%, что в 3 раза лучше чем результат Градиентного Бустинга без применения эмбеддингов\n",
    "Средняя абсолютная ошибка составляет ~0.8.\n",
    "\n",
    "Стоит отметить, что r² для поддатасета из первого миллиона записей составляет 24%.\n",
    "\n",
    "Скорее всего, невысокий r² для полного датасета на тесте объясняется cold problem, т.к тренировочные данные содержат лишь 85% всех юзеров и 58% всех фильмов"
   ],
   "metadata": {
    "collapsed": false
   }
  },
  {
   "cell_type": "code",
   "execution_count": 187,
   "outputs": [
    {
     "name": "stdout",
     "output_type": "stream",
     "text": [
      "доля юзеров в train 0.8547671840354767\n",
      "доля фильмов в train: 0.5872070366865223\n"
     ]
    }
   ],
   "source": [
    "test_range = int(len(filtered_data)*0.8)\n",
    "\n",
    "train = filtered_data.iloc[:test_range]\n",
    "test = filtered_data.iloc[test_range:]\n",
    "\n",
    "train_unique_users_len = len(train[\"userId\"].unique())\n",
    "train_unqie_movie_len = len(train[\"movieId\"].unique())\n",
    "\n",
    "all_unqie_users_len = len(filtered_data[\"userId\"].unique())\n",
    "all_unqie_films_len = len(filtered_data[\"movieId\"].unique())\n",
    "\n",
    "\n",
    "print(\"доля юзеров в train\", train_unique_users_len/all_unqie_users_len)\n",
    "print(\"доля фильмов в train:\", train_unqie_movie_len/all_unqie_films_len)"
   ],
   "metadata": {
    "collapsed": false,
    "ExecuteTime": {
     "end_time": "2023-05-10T01:56:29.330764500Z",
     "start_time": "2023-05-10T01:56:28.585794800Z"
    }
   }
  },
  {
   "cell_type": "markdown",
   "metadata": {},
   "source": [
    "# Достаем ембеддинги фильмов"
   ]
  },
  {
   "cell_type": "code",
   "execution_count": 194,
   "metadata": {
    "collapsed": false,
    "ExecuteTime": {
     "end_time": "2023-05-10T02:03:11.585808900Z",
     "start_time": "2023-05-10T02:03:09.985139200Z"
    }
   },
   "outputs": [
    {
     "name": "stdout",
     "output_type": "stream",
     "text": [
      "1292/1292 [==============================] - 1s 953us/step\n"
     ]
    }
   ],
   "source": [
    "all_movie_emb = movie_model.predict(all_movies)"
   ]
  },
  {
   "cell_type": "markdown",
   "metadata": {},
   "source": [
    "# Обучаем K-соседей пишем функцию для предсказания топ-n фильмов"
   ]
  },
  {
   "cell_type": "code",
   "execution_count": 189,
   "metadata": {
    "ExecuteTime": {
     "end_time": "2023-05-10T01:57:57.765187900Z",
     "start_time": "2023-05-10T01:57:57.760177Z"
    }
   },
   "outputs": [],
   "source": [
    "knn_train_label = all_movies"
   ]
  },
  {
   "cell_type": "code",
   "execution_count": null,
   "metadata": {},
   "outputs": [],
   "source": [
    "from sklearn.neighbors import KNeighborsClassifier\n",
    "clf = KNeighborsClassifier()\n",
    "clf.fit(all_movie_emb, knn_train_label)"
   ]
  },
  {
   "cell_type": "code",
   "execution_count": 191,
   "metadata": {
    "ExecuteTime": {
     "end_time": "2023-05-10T01:58:04.368245500Z",
     "start_time": "2023-05-10T01:58:04.360528300Z"
    }
   },
   "outputs": [],
   "source": [
    "def recommend_movies(user_id, n):\n",
    "    user_embedding = user_model.predict([user_id])\n",
    "    _, indices = clf.kneighbors(user_embedding,  n_neighbors=n)\n",
    "    return indices"
   ]
  },
  {
   "cell_type": "code",
   "execution_count": 192,
   "metadata": {
    "ExecuteTime": {
     "end_time": "2023-05-10T01:58:06.532386300Z",
     "start_time": "2023-05-10T01:58:06.528083800Z"
    }
   },
   "outputs": [],
   "source": [
    "TEST_USER_ID = 105"
   ]
  },
  {
   "cell_type": "code",
   "execution_count": 193,
   "metadata": {
    "ExecuteTime": {
     "end_time": "2023-05-10T01:58:08.990322800Z",
     "start_time": "2023-05-10T01:58:08.256859700Z"
    }
   },
   "outputs": [
    {
     "name": "stdout",
     "output_type": "stream",
     "text": [
      "1/1 [==============================] - 0s 58ms/step\n",
      "[[28754 35957 15295 33624 19996]]\n"
     ]
    }
   ],
   "source": [
    "print(recommend_movies(TEST_USER_ID, 5))"
   ]
  },
  {
   "cell_type": "markdown",
   "metadata": {},
   "source": [
    "# Выводы\n",
    "Одно из главных преимуществ в том, что мы можем применять эту модель в большинстве контекстов, поскльку нам необходимы только данные о взаимодействии (рейтинг) юзеров и фильмов. Нам больше не нужно знать ничего о пользователях и фильмах, таких как возраст, пол, жанр и т. д., поэтому обычно мы можем приступить к работе немедленно.\n",
    "\n",
    "Цена, которую мы платим за это, заключается в том, что мы не можем выводить осмысленные эмбеддинги для неизвестных пользователей или фильмов — cold start problem. Модель что-то выдаст, но качество будет ужасное."
   ]
  }
 ],
 "metadata": {
  "kernelspec": {
   "display_name": "Python 3 (ipykernel)",
   "language": "python",
   "name": "python3"
  },
  "language_info": {
   "codemirror_mode": {
    "name": "ipython",
    "version": 3
   },
   "file_extension": ".py",
   "mimetype": "text/x-python",
   "name": "python",
   "nbconvert_exporter": "python",
   "pygments_lexer": "ipython3",
   "version": "3.9.5"
  },
  "vscode": {
   "interpreter": {
    "hash": "67783390838d2e02912aac04d405c75735cc05868bfeaabbe6ec2bbdb2e2542d"
   }
  }
 },
 "nbformat": 4,
 "nbformat_minor": 4
}
